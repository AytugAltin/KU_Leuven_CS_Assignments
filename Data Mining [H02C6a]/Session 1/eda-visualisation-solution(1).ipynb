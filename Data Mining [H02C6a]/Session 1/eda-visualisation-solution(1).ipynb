{
 "cells": [
  {
   "cell_type": "markdown",
   "metadata": {},
   "source": [
    "# Exercise 1"
   ]
  },
  {
   "cell_type": "code",
   "execution_count": null,
   "metadata": {
    "collapsed": false
   },
   "outputs": [],
   "source": [
    "import pandas as pd, numpy as np\n",
    "\n",
    "eda_data = pd.read_csv('../datasets/eda.csv', na_values=['?'])\n",
    "\n",
    "print(str(eda_data.shape[0]) + ' records')\n",
    "print(str(eda_data.columns.size) + ' attributes:')\n",
    "\n",
    "eda_data.head()"
   ]
  },
  {
   "cell_type": "code",
   "execution_count": null,
   "metadata": {
    "collapsed": false
   },
   "outputs": [],
   "source": [
    "%matplotlib inline\n",
    "from matplotlib import pyplot as plt\n",
    "import seaborn as sns\n",
    "sns.set(color_codes=True)"
   ]
  },
  {
   "cell_type": "markdown",
   "metadata": {},
   "source": [
    "## Missing data: `gender`\n",
    "Missing data often present challenges that need to be addressed before applying machine learning algorithms: *should the columns with missing values be removed? or rows with missing values? or can they be filled?* \n",
    "\n",
    "For instance, in the given dataset, attribute `gender` has a high proportion of missing values (325/1000)."
   ]
  },
  {
   "cell_type": "code",
   "execution_count": null,
   "metadata": {
    "collapsed": false
   },
   "outputs": [],
   "source": [
    "plt.figure()\n",
    "    \n",
    "attr_data = eda_data['gender']\n",
    "missing_count = np.count_nonzero(attr_data.isnull().values)\n",
    "    \n",
    "plot = sns.countplot(x='gender', data=eda_data)\n",
    "plot.set_title('gender' + '\\nMissing: ' + str(missing_count))\n",
    "plot.set_xlabel(' ')\n",
    "plot.set_ylabel('Count')\n",
    "plot.yaxis.label.set_rotation(0)\n",
    "\n",
    "plt.draw()"
   ]
  },
  {
   "cell_type": "markdown",
   "metadata": {},
   "source": [
    "Missing data are not displayed on plots. Let's create a new attribute `gender_m`, where a missing value is replaced with a placeholder `MISSING`."
   ]
  },
  {
   "cell_type": "code",
   "execution_count": null,
   "metadata": {
    "collapsed": false
   },
   "outputs": [],
   "source": [
    "eda_data['gender_m'] = eda_data['gender']\n",
    "eda_data.gender_m.fillna(value='MISSING', inplace=True)\n",
    "\n",
    "eda_data.loc[eda_data.gender.isnull(), ['gender', 'gender_m']].head()"
   ]
  },
  {
   "cell_type": "code",
   "execution_count": null,
   "metadata": {
    "collapsed": false
   },
   "outputs": [],
   "source": [
    "plt.figure(figsize=(8, 6))    \n",
    "sns.set(font_scale=1.3)\n",
    "\n",
    "attr_data = eda_data['gender_m']\n",
    "missing_count = np.count_nonzero(attr_data.isnull().values)\n",
    "    \n",
    "plot = sns.countplot(x='gender_m', data=eda_data)\n",
    "plot.set_title('gender_m' + '\\nMissing: ' + str(missing_count))\n",
    "plot.set_xlabel(' ')\n",
    "plot.set_ylabel('Count')\n",
    "plot.yaxis.label.set_rotation(0)\n",
    "\n",
    "plt.draw()\n",
    "sns.set()"
   ]
  },
  {
   "cell_type": "markdown",
   "metadata": {},
   "source": [
    "To answer the question \"*Are gender data missing at random?*\", explore pairwise relations of `gender_m` with other attributes. It turns out that values are only missing at the `prenatal` hospital."
   ]
  },
  {
   "cell_type": "code",
   "execution_count": null,
   "metadata": {
    "collapsed": false
   },
   "outputs": [],
   "source": [
    "grid = sns.factorplot(data=eda_data,y='gender_m',col='hospital',kind='count')\n",
    "\n",
    "grid.axes[0,0].yaxis.label.set_rotation(0)\n",
    "grid.axes[0,0].yaxis.labelpad = 25\n",
    "\n",
    "plt.subplots_adjust(top=0.87)\n",
    "grid.fig.suptitle('Gender vs. hospital')"
   ]
  },
  {
   "cell_type": "markdown",
   "metadata": {},
   "source": [
    "This suggests that the missing values can be filled in (with the value `f`). Note that now the distribution of `gender` is skewed, i.e. there are more females in our sample than in the general population, where it is expected to be close to 50/50. This might be important for further modelling."
   ]
  },
  {
   "cell_type": "code",
   "execution_count": null,
   "metadata": {
    "collapsed": false
   },
   "outputs": [],
   "source": [
    "eda_data['gender_filled'] = eda_data['gender']\n",
    "eda_data.gender_filled.fillna(value='f', inplace=True)\n",
    "\n",
    "eda_data.loc[eda_data.gender.isnull(), ['gender', 'gender_m', 'gender_filled']].head()"
   ]
  },
  {
   "cell_type": "code",
   "execution_count": null,
   "metadata": {
    "collapsed": false
   },
   "outputs": [],
   "source": [
    "plt.figure()\n",
    "    \n",
    "attr_data = eda_data['gender_filled']\n",
    "missing_count = np.count_nonzero(attr_data.isnull().values)\n",
    "    \n",
    "plot = sns.countplot(x='gender_filled', data=eda_data)\n",
    "plot.set_title('gender_filled' + '\\nMissing: ' + str(missing_count))\n",
    "plot.set_xlabel(' ')\n",
    "plot.set_ylabel('Count')\n",
    "plot.yaxis.label.set_rotation(0)\n",
    "\n",
    "plt.draw()"
   ]
  },
  {
   "cell_type": "markdown",
   "metadata": {},
   "source": [
    "## Statistical peculiarities: `height` and `weight`\n",
    "It is often worth to verify that statistical properties of the given dataset match your expectations. For example, heights and weights are expected to be normally distributed, which is clearly not the case in the hospital data, where they have strange bimodal distributions with a large number of \"outliers\"."
   ]
  },
  {
   "cell_type": "code",
   "execution_count": null,
   "metadata": {
    "collapsed": false
   },
   "outputs": [],
   "source": [
    "for attr_name in ['height', 'weight']:\n",
    "    f, (ax_hist, ax_box) = plt.subplots(2, sharex=True, \n",
    "                                           gridspec_kw={\"height_ratios\": (.9, .1)})\n",
    "\n",
    "    attr_data = eda_data[attr_name]\n",
    "    min = attr_data.min()\n",
    "    mean = attr_data.mean()\n",
    "    median = attr_data.median()\n",
    "    max = attr_data.max()\n",
    "    std_dev = attr_data.std()\n",
    "    missing_count = np.count_nonzero(attr_data.isnull().values)\n",
    "    \n",
    "    distplot = sns.distplot(eda_data[attr_name].dropna(), kde=True, rug=False, axlabel=False, ax=ax_hist)\n",
    "    distplot.set_title(attr_name + '\\n' + \n",
    "                   'Min: '         + str(min)               + '   ' +\n",
    "                   'Avg: '         + str(round(mean, 2))    + '   ' +\n",
    "                   'Std.dev: '     + str(round(std_dev, 2)) + '   ' +\n",
    "                   'Median: '      + str(median)            + '   ' +\n",
    "                   'Max: '         + str(max)               + '   ' +\n",
    "                   'Missing: '     + str(missing_count))\n",
    "    \n",
    "    boxplot = sns.boxplot(attr_data, ax=ax_box)\n",
    "    boxplot.set_xlabel(' ')"
   ]
  },
  {
   "cell_type": "markdown",
   "metadata": {},
   "source": [
    "Again, the question to investigate is whether this happens randomly or is correlated with other attributes. In the latter case, there is an opportunity to fix these statistical anomalies.\n",
    "\n",
    "In the hospital data, `sports` hospital apparently records heights and weights in the imperial units, which can easily be fixed."
   ]
  },
  {
   "cell_type": "code",
   "execution_count": null,
   "metadata": {
    "collapsed": false
   },
   "outputs": [],
   "source": [
    "plot = sns.stripplot(data=eda_data, x=\"height\", y=\"hospital\", jitter=True)\n",
    "plot.set_title('Height vs. hospital')\n",
    "plot.yaxis.label.set_rotation(0)\n",
    "plot.yaxis.labelpad = 25"
   ]
  },
  {
   "cell_type": "code",
   "execution_count": null,
   "metadata": {
    "collapsed": false
   },
   "outputs": [],
   "source": [
    "eda_data['height_m'] = eda_data['height']\n",
    "eda_data.loc[eda_data.hospital == 'sports', 'height_m'] *= 0.3048\n",
    "\n",
    "eda_data['weight_kg'] = eda_data['weight']\n",
    "eda_data.loc[eda_data.hospital == 'sports', 'weight_kg'] *= 0.45359237\n",
    "\n",
    "eda_data.loc[eda_data.hospital == 'sports', ['height', 'height_m', 'weight', 'weight_kg']].head()"
   ]
  },
  {
   "cell_type": "code",
   "execution_count": null,
   "metadata": {
    "collapsed": false
   },
   "outputs": [],
   "source": [
    "attr_name = 'height_m'\n",
    "f, (ax_hist, ax_box) = plt.subplots(2, sharex=True, gridspec_kw={\"height_ratios\": (.9, .1)})\n",
    "\n",
    "attr_data = eda_data[attr_name]\n",
    "min = attr_data.min()\n",
    "mean = attr_data.mean()\n",
    "median = attr_data.median()\n",
    "max = attr_data.max()\n",
    "std_dev = attr_data.std()\n",
    "missing_count = np.count_nonzero(attr_data.isnull().values)\n",
    "\n",
    "distplot = sns.distplot(eda_data[attr_name].dropna(), kde=True, rug=False, axlabel=False, ax=ax_hist)\n",
    "distplot.set_title(attr_name + '\\n' + \n",
    "               'Min: '         + str(min)               + '   ' +\n",
    "               'Avg: '         + str(round(mean, 2))    + '   ' +\n",
    "               'Std.dev: '     + str(round(std_dev, 2)) + '   ' +\n",
    "               'Median: '      + str(median)            + '   ' +\n",
    "               'Max: '         + str(max)               + '   ' +\n",
    "               'Missing: '     + str(missing_count))\n",
    "\n",
    "boxplot = sns.boxplot(attr_data, ax=ax_box)\n",
    "boxplot.set_xlabel(' ')"
   ]
  },
  {
   "cell_type": "markdown",
   "metadata": {},
   "source": [
    "The distribution of *transformed* height is slightly left-skewed compared to the normal distribution. The reason is that patients of `sports` hospital are taller and heavier than the rest of patients."
   ]
  },
  {
   "cell_type": "code",
   "execution_count": null,
   "metadata": {
    "collapsed": false
   },
   "outputs": [],
   "source": [
    "plot = sns.stripplot(data=eda_data, x=\"height_m\", y=\"hospital\", jitter=True)\n",
    "plot.set_title('Height vs. hospital')\n",
    "plot.yaxis.label.set_rotation(0)\n",
    "plot.yaxis.labelpad = 25"
   ]
  },
  {
   "cell_type": "code",
   "execution_count": null,
   "metadata": {
    "collapsed": false
   },
   "outputs": [],
   "source": [
    "sns.distplot(eda_data.loc[eda_data.hospital == 'sports', 'weight_kg'])\n",
    "sns.distplot(eda_data.loc[eda_data.hospital != 'sports', 'weight_kg'])"
   ]
  },
  {
   "cell_type": "code",
   "execution_count": null,
   "metadata": {
    "collapsed": false,
    "scrolled": true
   },
   "outputs": [],
   "source": [
    "grid = sns.FacetGrid(size=7, data=eda_data, hue='hospital', legend_out=True)\n",
    "grid.map(plt.scatter, \"height_m\", \"weight_kg\")\n",
    "grid.add_legend()\n",
    "\n",
    "plt.subplots_adjust(top=0.95)\n",
    "grid.fig.suptitle('Height in m vs. weight in kg')\n",
    "\n",
    "grid.ax.yaxis.label.set_rotation(0)\n",
    "grid.ax.yaxis.labelpad = 35\n",
    "\n",
    "# Set ranges for X and Y axes\n",
    "grid.ax.set_xlim(1.6, 2.0)\n",
    "grid.ax.set_ylim(50, 120)"
   ]
  }
 ],
 "metadata": {
  "git": {
   "suppress_outputs": true
  },
  "kernelspec": {
   "display_name": "Python 3",
   "language": "python",
   "name": "python3"
  },
  "language_info": {
   "codemirror_mode": {
    "name": "ipython",
    "version": 3
   },
   "file_extension": ".py",
   "mimetype": "text/x-python",
   "name": "python",
   "nbconvert_exporter": "python",
   "pygments_lexer": "ipython3",
   "version": "3.4.3"
  }
 },
 "nbformat": 4,
 "nbformat_minor": 0
}
